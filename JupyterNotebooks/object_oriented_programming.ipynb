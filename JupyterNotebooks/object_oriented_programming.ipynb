{
 "cells": [
  {
   "cell_type": "markdown",
   "metadata": {
    "toc": true
   },
   "source": [
    "<h1>Table of Contents<span class=\"tocSkip\"></span></h1>\n",
    "<div class=\"toc\"><ul class=\"toc-item\"><li><span><a href=\"#Introduction-to-Object-Oriented-Programming\" data-toc-modified-id=\"Introduction-to-Object-Oriented-Programming-1\"><span class=\"toc-item-num\">1&nbsp;&nbsp;</span>Introduction to Object Oriented Programming</a></span><ul class=\"toc-item\"><li><span><a href=\"#What-are-the-other-types-of-paradigms-for-code-organization?\" data-toc-modified-id=\"What-are-the-other-types-of-paradigms-for-code-organization?-1.1\"><span class=\"toc-item-num\">1.1&nbsp;&nbsp;</span>What are the other types of paradigms for code organization?</a></span></li><li><span><a href=\"#Advantages-of-OOPs:\" data-toc-modified-id=\"Advantages-of-OOPs:-1.2\"><span class=\"toc-item-num\">1.2&nbsp;&nbsp;</span>Advantages of OOPs:</a></span></li><li><span><a href=\"#Three-Pillars-of-Object-Oriented-Programming\" data-toc-modified-id=\"Three-Pillars-of-Object-Oriented-Programming-1.3\"><span class=\"toc-item-num\">1.3&nbsp;&nbsp;</span>Three Pillars of Object Oriented Programming</a></span></li><li><span><a href=\"#Python-as-an-OOPs-language\" data-toc-modified-id=\"Python-as-an-OOPs-language-1.4\"><span class=\"toc-item-num\">1.4&nbsp;&nbsp;</span>Python as an OOPs language</a></span></li></ul></li><li><span><a href=\"#Components-in-OOPs\" data-toc-modified-id=\"Components-in-OOPs-2\"><span class=\"toc-item-num\">2&nbsp;&nbsp;</span>Components in OOPs</a></span><ul class=\"toc-item\"><li><span><a href=\"#What-is-a-class?\" data-toc-modified-id=\"What-is-a-class?-2.1\"><span class=\"toc-item-num\">2.1&nbsp;&nbsp;</span>What is a class?</a></span></li><li><span><a href=\"#What-is-an-object?\" data-toc-modified-id=\"What-is-an-object?-2.2\"><span class=\"toc-item-num\">2.2&nbsp;&nbsp;</span>What is an object?</a></span></li><li><span><a href=\"#Instance-Methods\" data-toc-modified-id=\"Instance-Methods-2.3\"><span class=\"toc-item-num\">2.3&nbsp;&nbsp;</span>Instance Methods</a></span></li><li><span><a href=\"#Instance-Attribute\" data-toc-modified-id=\"Instance-Attribute-2.4\"><span class=\"toc-item-num\">2.4&nbsp;&nbsp;</span>Instance Attribute</a></span></li><li><span><a href=\"#init-Constructor\" data-toc-modified-id=\"init-Constructor-2.5\"><span class=\"toc-item-num\">2.5&nbsp;&nbsp;</span><strong>init</strong> Constructor</a></span></li><li><span><a href=\"#Class-Attributes\" data-toc-modified-id=\"Class-Attributes-2.6\"><span class=\"toc-item-num\">2.6&nbsp;&nbsp;</span>Class Attributes</a></span></li><li><span><a href=\"#Working-with-both-class-and-instance-attributes\" data-toc-modified-id=\"Working-with-both-class-and-instance-attributes-2.7\"><span class=\"toc-item-num\">2.7&nbsp;&nbsp;</span>Working with both class and instance attributes</a></span></li><li><span><a href=\"#Class-Methods\" data-toc-modified-id=\"Class-Methods-2.8\"><span class=\"toc-item-num\">2.8&nbsp;&nbsp;</span>Class Methods</a></span></li><li><span><a href=\"#Static-Method\" data-toc-modified-id=\"Static-Method-2.9\"><span class=\"toc-item-num\">2.9&nbsp;&nbsp;</span>Static Method</a></span></li></ul></li><li><span><a href=\"#Inheritance\" data-toc-modified-id=\"Inheritance-3\"><span class=\"toc-item-num\">3&nbsp;&nbsp;</span>Inheritance</a></span></li><li><span><a href=\"#Exceptions\" data-toc-modified-id=\"Exceptions-4\"><span class=\"toc-item-num\">4&nbsp;&nbsp;</span>Exceptions</a></span></li><li><span><a href=\"#Serializing-Objects\" data-toc-modified-id=\"Serializing-Objects-5\"><span class=\"toc-item-num\">5&nbsp;&nbsp;</span>Serializing Objects</a></span></li><li><span><a href=\"#Efficiency-and-Testing\" data-toc-modified-id=\"Efficiency-and-Testing-6\"><span class=\"toc-item-num\">6&nbsp;&nbsp;</span>Efficiency and Testing</a></span></li></ul></div>"
   ]
  },
  {
   "cell_type": "markdown",
   "metadata": {
    "heading_collapsed": true
   },
   "source": [
    "# Object Oriented Programming"
   ]
  },
  {
   "cell_type": "markdown",
   "metadata": {
    "hidden": true
   },
   "source": [
    "## Introduction to Object Oriented Programming"
   ]
  },
  {
   "cell_type": "markdown",
   "metadata": {
    "hidden": true
   },
   "source": [
    "OOPs is a paradigm or a way of organizing the code\n",
    "OOP organizes data into objects and functionality into methods. It defines object specifications into data and methods in the classes\n"
   ]
  },
  {
   "cell_type": "markdown",
   "metadata": {
    "hidden": true
   },
   "source": [
    "### What are the other types of paradigms for code organization?\n",
    "**OOP vs sequential programming:**\n",
    "\n",
    "The idea of sequential programming is that the code is a set of instructions runs one after the other in a top down approach. \n",
    "\n",
    "**Procedural Programming**\n",
    "The functionality of the program is broken down into modules caled functions like below"
   ]
  },
  {
   "cell_type": "code",
   "execution_count": 16,
   "metadata": {
    "hidden": true
   },
   "outputs": [],
   "source": [
    "#Procedural Programming\n",
    "def increment(arg):\n",
    "    arg = arg + 1\n",
    "    return arg\n",
    "    \n",
    "#Object Oriented Programming\n",
    "class MyCustomIncrement():\n",
    "    def __init__(self, arg = 0):\n",
    "        self.arg = arg\n",
    "    def increment(self):\n",
    "        self.arg = self.arg + 1\n"
   ]
  },
  {
   "cell_type": "markdown",
   "metadata": {
    "hidden": true
   },
   "source": [
    "### Advantages of OOPs:\n",
    "1. Promote collaboration\n",
    "2. Makes code maintanance easier, like code refactoring, code collaboration and code extension easier\n",
    "3. Easier to use and understand code built on this paradigm\n",
    "4. Code reuse\n",
    "5. "
   ]
  },
  {
   "cell_type": "markdown",
   "metadata": {
    "hidden": true
   },
   "source": [
    "### Three Pillars of Object Oriented Programming\n",
    "\n",
    "1. Encapsulation\n",
    "2. Polymorphism\n",
    "3. Inheritance"
   ]
  },
  {
   "cell_type": "markdown",
   "metadata": {
    "hidden": true
   },
   "source": [
    "### Python as an OOPs language\n",
    "\n",
    "- In python everything is an object, including primitive datatypes like integer and strings."
   ]
  },
  {
   "cell_type": "code",
   "execution_count": 5,
   "metadata": {
    "hidden": true
   },
   "outputs": [
    {
     "name": "stdout",
     "output_type": "stream",
     "text": [
      "<class 'int'>\n",
      "<class 'function'>\n"
     ]
    }
   ],
   "source": [
    "# An integer belongs to the class Integer\n",
    "my_int = 5\n",
    "print(type(my_int))\n",
    "\n",
    "\n",
    "# An function belongs to the class 'function'\n",
    "def func_hello():\n",
    "    print('Hello!')\n",
    "    \n",
    "print(type(func_hello))"
   ]
  },
  {
   "cell_type": "markdown",
   "metadata": {
    "hidden": true
   },
   "source": [
    "- Every object has a type and has attributes some of which are methods\n",
    "- Attributes that are callable are the methods associated with the class ex. bit_length in the example below"
   ]
  },
  {
   "cell_type": "code",
   "execution_count": 14,
   "metadata": {
    "hidden": true
   },
   "outputs": [
    {
     "name": "stdout",
     "output_type": "stream",
     "text": [
      "numerator  5\n",
      "bit_length 3\n"
     ]
    }
   ],
   "source": [
    "#numerator is a variable in the Integer class which holds the numerator of the number\n",
    "print('numerator ',my_int.numerator)\n",
    "\n",
    "#bit_length is a function in the Integer class\n",
    "print('bit_length',my_int.bit_length())"
   ]
  },
  {
   "cell_type": "markdown",
   "metadata": {
    "hidden": true
   },
   "source": [
    "## Components in OOPs"
   ]
  },
  {
   "cell_type": "markdown",
   "metadata": {
    "hidden": true
   },
   "source": [
    "1. Class: a blue print of an instance\n",
    "\n",
    "2. Instance : a constructed object of a class\n",
    "\n",
    "3. Type : indicates the class the instance belongs to \n",
    "\n",
    "4. Attribute: any object value, this can be a callable attribute which is a method or a non-callable attribute which is a class variable. Every method defined in a class is an attribute, but every attribute is not a method. It can be a class attribute or an instance attribute\n",
    "5. Method: a callabel attribute defined in a class. It can be a class method or an instance method"
   ]
  },
  {
   "cell_type": "markdown",
   "metadata": {
    "hidden": true
   },
   "source": [
    "### What is a class?"
   ]
  },
  {
   "cell_type": "code",
   "execution_count": 34,
   "metadata": {
    "hidden": true
   },
   "outputs": [
    {
     "name": "stdout",
     "output_type": "stream",
     "text": [
      "<__main__.MyDemoClass object at 0x000001DC454C2320> <__main__.MyDemoClass object at 0x000001DC454C2048>\n"
     ]
    }
   ],
   "source": [
    "#define a class\n",
    "class MyDemoClass():\n",
    "\n",
    "    my_var = 5            #class variable/attribute\n",
    "    def my_method(self):  #instance method/callable attribute\n",
    "        print('hello!') \n",
    "        \n",
    "obj_1 = MyDemoClass()\n",
    "obj_2 = MyDemoClass()\n",
    "\n",
    "#create 2 instances of the class\n",
    "print(obj_1, obj_2)"
   ]
  },
  {
   "cell_type": "markdown",
   "metadata": {
    "hidden": true
   },
   "source": [
    "1. An instance of a class knows which class it is from\n",
    "2. Attributes defined in a class are available to its instance"
   ]
  },
  {
   "cell_type": "markdown",
   "metadata": {
    "hidden": true
   },
   "source": [
    "### What is an object?"
   ]
  },
  {
   "cell_type": "markdown",
   "metadata": {
    "hidden": true
   },
   "source": [
    "- It is a unit of data(in the form of one or more attributes), of a particular class and is associated with functionality(in the form of methods)\n",
    "- Every instance can access both instance and class attributes\n",
    "- Every object created using the same Class will have the same variables/attributes and methods(callable attributes)\n",
    "- Every object has its own state which is stored in the variables defined in the class"
   ]
  },
  {
   "cell_type": "markdown",
   "metadata": {
    "heading_collapsed": true,
    "hidden": true
   },
   "source": [
    "### Instance Methods"
   ]
  },
  {
   "cell_type": "markdown",
   "metadata": {
    "hidden": true
   },
   "source": [
    "1. An Instance method is a method that is designed to be worked on an instance\n",
    "2. Instance methods are defined in a class and are accessed through an object\n",
    "2. Instance methods can be used to process/modify the data stored in an instance\n",
    "3. When we call a method on an instance, the instance is passed as the first argument to the method automatically\n",
    "4. Because of the automatic passing of the instance to the instance method, we need to declare 'self' in the method definition as the first argument. Naming the instance argument as 'self' is a *convenction* even though it can be called anything we want \n",
    "5. Thus 'self' in the code below represents the instance on which the method was called"
   ]
  },
  {
   "cell_type": "code",
   "execution_count": 44,
   "metadata": {
    "hidden": true
   },
   "outputs": [
    {
     "name": "stdout",
     "output_type": "stream",
     "text": [
      "memory location of the instance  <__main__.MyDemoClass object at 0x000001DC454C2828>\n",
      "\n",
      "Printing in my_method\n",
      "<__main__.MyDemoClass object at 0x000001DC454C2828>\n"
     ]
    }
   ],
   "source": [
    "# we can clearly see that the instance is passed as the first argument to an instance method through the hexcode\n",
    "#in the print statements\n",
    "\n",
    "class MyDemoClass():\n",
    "    \n",
    "    my_var = 5\n",
    "    def my_method(self):\n",
    "        print()\n",
    "        print(\"Printing in my_method\")\n",
    "        print(self)\n",
    "        \n",
    "my_instance = MyDemoClass()\n",
    "\n",
    "print('memory location of the instance ',my_instance)\n",
    "my_instance.my_method()"
   ]
  },
  {
   "cell_type": "markdown",
   "metadata": {
    "heading_collapsed": true,
    "hidden": true
   },
   "source": [
    "### Instance Attribute"
   ]
  },
  {
   "cell_type": "markdown",
   "metadata": {
    "hidden": true
   },
   "source": [
    "1. Instances can have their own data in the form of instance attributes\n",
    "2. Variables defined in the class are class attributes\n",
    "3. When we are trying to fetch an attribute, Python first looks at the attribute in the instance and then in the class"
   ]
  },
  {
   "cell_type": "code",
   "execution_count": 36,
   "metadata": {
    "hidden": true
   },
   "outputs": [
    {
     "name": "stdout",
     "output_type": "stream",
     "text": [
      "In my_method\n",
      "5\n",
      "10\n"
     ]
    }
   ],
   "source": [
    "class MyDemoClass():\n",
    "    \n",
    "    my_class_var = 5                                  #class variable, not associated with self\n",
    "    def my_inst_method(self):                         #instance method, since it is bound to the instance through self\n",
    "        print(\"In my_method\")\n",
    "        self.my_inst_var = 10                         #instance variable, since it is stored in the instance through self\n",
    "        \n",
    "        \n",
    "my_instance = MyDemoClass()\n",
    "\n",
    "my_instance.my_inst_method()\n",
    "print(my_instance.my_class_var)\n",
    "print(my_instance.my_inst_var)"
   ]
  },
  {
   "cell_type": "code",
   "execution_count": 37,
   "metadata": {
    "hidden": true
   },
   "outputs": [
    {
     "name": "stdout",
     "output_type": "stream",
     "text": [
      "In my_method\n",
      "10\n"
     ]
    }
   ],
   "source": [
    "#When we are trying to fetch an attribute, Python first looks at the attribute in the instance and then in the class\n",
    "class MyDemoClass():\n",
    "    \n",
    "    my_var = 5                      #class variable, not associated with self\n",
    "    def my_inst_method(self):       #instance method, since it is bound to the instance through self\n",
    "        print(\"In my_method\")\n",
    "        self.my_var = 10            #instance variable, since it is stored in the instance through self\n",
    "        \n",
    "        \n",
    "my_instance = MyDemoClass()\n",
    "\n",
    "my_instance.my_inst_method()\n",
    "print(my_instance.my_var)"
   ]
  },
  {
   "cell_type": "markdown",
   "metadata": {
    "heading_collapsed": true,
    "hidden": true
   },
   "source": [
    "### __init__ Constructor"
   ]
  },
  {
   "cell_type": "markdown",
   "metadata": {
    "hidden": true
   },
   "source": [
    "1. __init__ method is a constructor that initializes the object\n",
    "2. The double underscores in the init method make the method private and inaccesible through calling it via the instance or anyother way\n",
    "3. The init method is called automatically when an instance is created\n",
    "4. If it is not present it is not called\n",
    "4. This method isused for preporatory uses such as initializing few variables and calling any function before the instance can be used\n",
    "5. A good practise is to add integrity gate code in the constructor method, this helps validate the data we are passing\n"
   ]
  },
  {
   "cell_type": "code",
   "execution_count": 41,
   "metadata": {
    "hidden": true
   },
   "outputs": [
    {
     "name": "stdout",
     "output_type": "stream",
     "text": [
      "calling __init__\n",
      "11\n",
      "13\n"
     ]
    }
   ],
   "source": [
    "class MyDemoClass():\n",
    "    \n",
    "    def __init__(self, value):            #constructor, instance method\n",
    "        print('calling __init__')\n",
    "        try:\n",
    "            value = int(value)\n",
    "        except ValueError:\n",
    "            value = 0\n",
    "        self.val = value                  #setting an instance attribute\n",
    "        \n",
    "    def increment(self):                  #instance method\n",
    "        self.val = self.val + 1\n",
    "        \n",
    "my_instance = MyDemoClass(11)\n",
    "print(my_instance.val)\n",
    "\n",
    "my_instance.increment()\n",
    "my_instance.increment()\n",
    "print(my_instance.val)"
   ]
  },
  {
   "cell_type": "code",
   "execution_count": 43,
   "metadata": {
    "hidden": true
   },
   "outputs": [
    {
     "name": "stdout",
     "output_type": "stream",
     "text": [
      "calling __init__\n",
      "0\n",
      "1\n"
     ]
    }
   ],
   "source": [
    "#passing bad data\n",
    "my_instance = MyDemoClass('Hello')\n",
    "print(my_instance.val)\n",
    "\n",
    "my_instance.increment()\n",
    "print(my_instance.val)"
   ]
  },
  {
   "cell_type": "code",
   "execution_count": null,
   "metadata": {
    "hidden": true
   },
   "outputs": [],
   "source": []
  },
  {
   "cell_type": "markdown",
   "metadata": {
    "heading_collapsed": true,
    "hidden": true
   },
   "source": [
    "### Class Attributes"
   ]
  },
  {
   "cell_type": "markdown",
   "metadata": {
    "hidden": true
   },
   "source": [
    "- Both class and instance attributes are accessible through the instance\n",
    "- Python first looks for that attribute in the instance and then in the class\n",
    "- A good practise is not to use the same variable name for both the instance and class attribute"
   ]
  },
  {
   "cell_type": "markdown",
   "metadata": {
    "heading_collapsed": true,
    "hidden": true
   },
   "source": [
    "### Working with both class and instance attributes"
   ]
  },
  {
   "cell_type": "markdown",
   "metadata": {
    "hidden": true
   },
   "source": [
    "1. To access class attributes use classname.classattribute and to access an instance attribute use self.instanceattribute\n",
    "2. The use of classname.classattribute paradigm helps Python differentiate between a class attribute and a global atttribute like var below"
   ]
  },
  {
   "cell_type": "code",
   "execution_count": 49,
   "metadata": {
    "hidden": true
   },
   "outputs": [
    {
     "name": "stdout",
     "output_type": "stream",
     "text": [
      "3\n",
      "3\n"
     ]
    }
   ],
   "source": [
    "var = 100\n",
    "\n",
    "class Car():\n",
    "    \n",
    "    count = 0                        #class variable\n",
    "    \n",
    "    def __init__(self, car_name):    #constructor\n",
    "        self.car_name =  car_name    #initializing an instance variable\n",
    "        Car.count = Car.count + 1    #accessing and modifying a class variable\n",
    "        \n",
    "    def get_count(self):             #instance method\n",
    "        return Car.count\n",
    "    \n",
    "car1 = Car('Ford')\n",
    "car2 = Car('Honda')\n",
    "car3 = Car('Toyota')\n",
    "\n",
    "print(car3.get_count())\n",
    "print(Car.count)"
   ]
  },
  {
   "cell_type": "markdown",
   "metadata": {
    "heading_collapsed": true,
    "hidden": true
   },
   "source": [
    "### Class Methods"
   ]
  },
  {
   "cell_type": "markdown",
   "metadata": {
    "hidden": true
   },
   "source": [
    "- We can see in the above code that the get_count method does not actually use the instance in any operation but uses the class variable in its operations.\n",
    "- In such scenarios we should implement an instance method because it is not our intention but we need to implement a class method\n",
    "- In order to implement a class method, use the @classmethod decorator\n",
    "- Just like in an instance method where an instance is passed as the first argument to the instance method. For a class method, the class object is implicitly passed as the first argument. By convection this argument is named as 'cls'"
   ]
  },
  {
   "cell_type": "code",
   "execution_count": 2,
   "metadata": {
    "hidden": true
   },
   "outputs": [
    {
     "name": "stdout",
     "output_type": "stream",
     "text": [
      "3\n",
      "3\n"
     ]
    }
   ],
   "source": [
    "var = 100\n",
    "\n",
    "class Car():\n",
    "    \n",
    "    count = 0                        #class variable\n",
    "    \n",
    "    def __init__(self, car_name):    #constructor\n",
    "        self.car_name =  car_name    #initializing an instance variable\n",
    "        Car.count = Car.count + 1    #accessing and modifying a class variable\n",
    "    \n",
    "    @classmethod                     #classmethod decorator\n",
    "    def get_count(cls):              #class method\n",
    "        return cls.count\n",
    "    \n",
    "car1 = Car('Ford')\n",
    "car2 = Car('Honda')\n",
    "car3 = Car('Toyota')\n",
    "\n",
    "print(car3.get_count())\n",
    "print(Car.count)"
   ]
  },
  {
   "cell_type": "markdown",
   "metadata": {
    "heading_collapsed": true,
    "hidden": true
   },
   "source": [
    "### Static Method"
   ]
  },
  {
   "cell_type": "markdown",
   "metadata": {
    "hidden": true
   },
   "source": [
    "- In scenarios where we do not intend to use neither the instance object or the class object in our operations we define a static method\n",
    "- A static method is created using the @staticmethod decorator\n",
    "- No implicit objects are passed to this method\n",
    "- This method would still belong to the class code"
   ]
  },
  {
   "cell_type": "code",
   "execution_count": 6,
   "metadata": {
    "hidden": true
   },
   "outputs": [
    {
     "name": "stdout",
     "output_type": "stream",
     "text": [
      "Printing value passed  Ford\n",
      "Printing value passed  Honda\n",
      "Printing value passed  Toyota\n",
      "3\n",
      "3\n"
     ]
    }
   ],
   "source": [
    "var = 100\n",
    "\n",
    "class Car():\n",
    "    \n",
    "    count = 0                                      #class variable\n",
    "    \n",
    "    def __init__(self, car_name):                       #constructor\n",
    "        self.car_name =  self.check_string(car_name)    #initializing an instance variable\n",
    "        Car.count = Car.count + 1                       #accessing and modifying a class variable\n",
    "    \n",
    "    @classmethod                                   #classmethod decorator\n",
    "    def get_count(cls):                            #class method\n",
    "        return cls.count\n",
    "    \n",
    "    @staticmethod                                  #static method decorator\n",
    "    def check_string(value):                       #static method\n",
    "        print(\"Printing value passed \",value)\n",
    "        if not isinstance(value, str):\n",
    "            return 'dummy'\n",
    "        else:\n",
    "            return value\n",
    "        \n",
    "car1 = Car('Ford')\n",
    "car2 = Car('Honda')\n",
    "car3 = Car('Toyota')\n",
    "\n",
    "print(car3.get_count())\n",
    "print(Car.count)"
   ]
  },
  {
   "cell_type": "code",
   "execution_count": null,
   "metadata": {
    "hidden": true
   },
   "outputs": [],
   "source": []
  },
  {
   "cell_type": "code",
   "execution_count": null,
   "metadata": {
    "hidden": true
   },
   "outputs": [],
   "source": []
  },
  {
   "cell_type": "code",
   "execution_count": null,
   "metadata": {
    "hidden": true
   },
   "outputs": [],
   "source": []
  },
  {
   "cell_type": "markdown",
   "metadata": {},
   "source": [
    "# TO-DO"
   ]
  },
  {
   "cell_type": "markdown",
   "metadata": {},
   "source": [
    "## Inheritance"
   ]
  },
  {
   "cell_type": "markdown",
   "metadata": {},
   "source": [
    "## Exceptions"
   ]
  },
  {
   "cell_type": "markdown",
   "metadata": {},
   "source": [
    "## Serializing Objects"
   ]
  },
  {
   "cell_type": "markdown",
   "metadata": {},
   "source": [
    "## Efficiency and Testing"
   ]
  },
  {
   "cell_type": "code",
   "execution_count": null,
   "metadata": {},
   "outputs": [],
   "source": []
  }
 ],
 "metadata": {
  "kernelspec": {
   "display_name": "Python 3",
   "language": "python",
   "name": "python3"
  },
  "language_info": {
   "codemirror_mode": {
    "name": "ipython",
    "version": 3
   },
   "file_extension": ".py",
   "mimetype": "text/x-python",
   "name": "python",
   "nbconvert_exporter": "python",
   "pygments_lexer": "ipython3",
   "version": "3.6.5"
  },
  "toc": {
   "base_numbering": 1,
   "nav_menu": {},
   "number_sections": true,
   "sideBar": true,
   "skip_h1_title": true,
   "title_cell": "Table of Contents",
   "title_sidebar": "Contents",
   "toc_cell": true,
   "toc_position": {},
   "toc_section_display": true,
   "toc_window_display": true
  }
 },
 "nbformat": 4,
 "nbformat_minor": 2
}
